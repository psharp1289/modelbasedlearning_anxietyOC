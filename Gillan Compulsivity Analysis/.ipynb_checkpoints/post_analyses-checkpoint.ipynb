{
 "cells": [
  {
   "cell_type": "markdown",
   "metadata": {},
   "source": [
    "# Relationships between Factors & State Transition Learning\n",
    "\n",
    "- view distributions of computational parameters of interest -- Mb beta & state transition learning rate"
   ]
  },
  {
   "cell_type": "code",
   "execution_count": 1,
   "metadata": {},
   "outputs": [
    {
     "name": "stdout",
     "output_type": "stream",
     "text": [
      "correlation lrT and B-mb: -0.025515385391459623, pval: 0.338361357236718\n",
      "0.01068655486520633\n",
      "0.02716666861944913\n",
      "0.014330075074493753\n"
     ]
    },
    {
     "data": {
      "text/plain": [
       "<Figure size 640x480 with 1 Axes>"
      ]
     },
     "metadata": {},
     "output_type": "display_data"
    },
    {
     "name": "stdout",
     "output_type": "stream",
     "text": [
      "normality test: 0.8431358933448792 , p-val: 3.514429069624275e-35\n"
     ]
    },
    {
     "data": {
      "text/plain": [
       "<Figure size 640x480 with 1 Axes>"
      ]
     },
     "metadata": {},
     "output_type": "display_data"
    }
   ],
   "source": [
    "import pandas as pd\n",
    "import seaborn as sns\n",
    "import statsmodels.api as sm\n",
    "import numpy as np\n",
    "import matplotlib.pyplot as plt\n",
    "from scipy.stats import shapiro\n",
    "from scipy.stats import ttest_ind as tt\n",
    "from scipy.stats import spearmanr as corrp\n",
    "import numpy as np\n",
    "from statsmodels.graphics.gofplots import qqplot\n",
    "bad_indices=[]\n",
    "sr_data=pd.read_csv('self_report_study2.csv') #load self-report data\n",
    "state_t=pd.read_csv('Gillan_TL_lrT.csv',header=None) #load state transition lrs\n",
    "it_mb=pd.read_csv('Gillan_TL_mbIT.csv',header=None) #load MB beta\n",
    "r,p=corrp(np.log(state_t),np.log(it_mb))\n",
    "print('correlation lrT and B-mb: {}, pval: {}'.format(r,p))\n",
    "\n",
    "f2_low_lr=[]\n",
    "f2_low_f=[]\n",
    "f2_high_lr=[]\n",
    "f2_high_f=[]\n",
    "sr_data_r=sr_data[:-3]\n",
    "fac1=sr_data_r['Factor1']\n",
    "fac2=sr_data_r['Factor2']\n",
    "fac3=sr_data_r['Factor3']\n",
    "# for i in range(len(fac2)):\n",
    "#     if state_t[0][i]<0.25:\n",
    "#         if fac2[i]>=0:\n",
    "#             f2_high_lr.append(state_t[0][i])\n",
    "#             f2_high_f.append(fac2[i])\n",
    "#         else:\n",
    "#             f2_low_lr.append(state_t[0][i])\n",
    "#             f2_low_f.append(fac2[i])\n",
    "\n",
    "\n",
    "# t,p=tt(f2_high_lr,f2_low_lr,equal_var=False)\n",
    "# print('t-val: {}, p:{}'.format(t,p))\n",
    "lrt_r=state_t\n",
    "corr_fac1=sr_data_r['Factor1'].corr(np.log(lrt_r[0]))\n",
    "print(corr_fac1)\n",
    "fac2=sr_data_r['Factor2']\n",
    "iq=sr_data_r['iq']\n",
    "corr_fac2=sr_data_r['Factor2'].corr(np.log(lrt_r[0]))\n",
    "print(corr_fac2)\n",
    "corr_fac3=sr_data_r['Factor3'].corr(np.log(lrt_r[0]))\n",
    "print(corr_fac3)\n",
    "sns.distplot(np.log(lrt_r[0]))\n",
    "plt.show()\n",
    "stat,p=shapiro(np.log(lrt_r[0]))\n",
    "print(\"normality test: {} , p-val: {}\".format(stat,p))\n",
    "# q-q plot\n",
    "qqplot(lrt_r[0], line='s')\n",
    "plt.show()\n"
   ]
  },
  {
   "cell_type": "markdown",
   "metadata": {},
   "source": [
    "# Build design matrix to predict compulsivity factor"
   ]
  },
  {
   "cell_type": "code",
   "execution_count": 5,
   "metadata": {},
   "outputs": [
    {
     "name": "stderr",
     "output_type": "stream",
     "text": [
      "/home/paul/.local/lib/python3.7/site-packages/ipykernel_launcher.py:5: SettingWithCopyWarning: \n",
      "A value is trying to be set on a copy of a slice from a DataFrame.\n",
      "Try using .loc[row_indexer,col_indexer] = value instead\n",
      "\n",
      "See the caveats in the documentation: http://pandas.pydata.org/pandas-docs/stable/user_guide/indexing.html#returning-a-view-versus-a-copy\n",
      "  \"\"\"\n",
      "/home/paul/.local/lib/python3.7/site-packages/ipykernel_launcher.py:6: SettingWithCopyWarning: \n",
      "A value is trying to be set on a copy of a slice from a DataFrame.\n",
      "Try using .loc[row_indexer,col_indexer] = value instead\n",
      "\n",
      "See the caveats in the documentation: http://pandas.pydata.org/pandas-docs/stable/user_guide/indexing.html#returning-a-view-versus-a-copy\n",
      "  \n"
     ]
    }
   ],
   "source": [
    "from sklearn import preprocessing\n",
    "\n",
    "#build design matrix\n",
    "X = sr_data_r[['iq','gender','age']]\n",
    "X['state_t']=state_t\n",
    "X['it_mb']=it_mb\n",
    "y=fac2 #compulsivity factor defined above\n",
    "\n",
    "# standardize variables\n",
    "x = X.values #returns a numpy array\n",
    "scaler = preprocessing.StandardScaler()\n",
    "x_scaled = scaler.fit_transform(x)\n",
    "X = pd.DataFrame(x_scaled)\n",
    "\n"
   ]
  },
  {
   "cell_type": "markdown",
   "metadata": {},
   "source": [
    "# Test if data meets linearity and normality of residuals assumptions\n",
    "\n",
    "- Credit goes to Jeff Macaluso for these wonderful functions used to test these assumptions\n",
    "- see his great tutorial: https://jeffmacaluso.github.io/post/LinearRegressionAssumptions/"
   ]
  },
  {
   "cell_type": "code",
   "execution_count": 6,
   "metadata": {},
   "outputs": [
    {
     "name": "stdout",
     "output_type": "stream",
     "text": [
      "R^2: 0.07739447525410637\n"
     ]
    }
   ],
   "source": [
    "from sklearn.linear_model import LinearRegression\n",
    "\n",
    "# Fitting the model\n",
    "model = LinearRegression()\n",
    "model.fit(X, y)\n",
    "\n",
    "# Returning the R^2 for the model\n",
    "r2 = model.score(X, y)\n",
    "print('R^2: {0}'.format(r2))"
   ]
  },
  {
   "cell_type": "code",
   "execution_count": 7,
   "metadata": {},
   "outputs": [],
   "source": [
    "def calculate_residuals(model, features, label):\n",
    "    \"\"\"\n",
    "    Creates predictions on the features with the model and calculates residuals\n",
    "    \"\"\"\n",
    "    predictions = model.predict(features)\n",
    "    df_results = pd.DataFrame({'Actual': label, 'Predicted': predictions})\n",
    "    df_results['Residuals'] = abs(df_results['Actual']) - abs(df_results['Predicted'])\n",
    "    \n",
    "    return df_results\n",
    "\n",
    "def linear_assumption(model, features, label):\n",
    "    \"\"\"\n",
    "    Linearity: Assumes that there is a linear relationship between the predictors and\n",
    "               the response variable. If not, either a quadratic term or another\n",
    "               algorithm should be used.\n",
    "    \"\"\"\n",
    "    print('Assumption 1: Linear Relationship between the Target and the Feature', '\\n')\n",
    "        \n",
    "    print('Checking with a scatter plot of actual vs. predicted.',\n",
    "           'Predictions should follow the diagonal line.')\n",
    "    \n",
    "    # Calculating residuals for the plot\n",
    "    df_results = calculate_residuals(model, features, label)\n",
    "    \n",
    "    # Plotting the actual vs predicted values\n",
    "    sns.lmplot(x='Actual', y='Predicted', data=df_results, fit_reg=False, size=7)\n",
    "        \n",
    "    # Plotting the diagonal line\n",
    "    line_coords = np.arange(df_results.min().min(), df_results.max().max())\n",
    "    plt.plot(line_coords, line_coords,  # X and y points\n",
    "             color='darkorange', linestyle='--')\n",
    "    plt.title('Actual vs. Predicted')\n",
    "    plt.show()"
   ]
  },
  {
   "cell_type": "code",
   "execution_count": 8,
   "metadata": {},
   "outputs": [
    {
     "name": "stdout",
     "output_type": "stream",
     "text": [
      "Assumption 1: Linear Relationship between the Target and the Feature \n",
      "\n",
      "Checking with a scatter plot of actual vs. predicted. Predictions should follow the diagonal line.\n"
     ]
    },
    {
     "name": "stderr",
     "output_type": "stream",
     "text": [
      "/home/paul/.local/lib/python3.7/site-packages/seaborn/regression.py:546: UserWarning: The `size` paramter has been renamed to `height`; please update your code.\n",
      "  warnings.warn(msg, UserWarning)\n"
     ]
    },
    {
     "data": {
      "image/png": "[encoded data removed]",
      "text/plain": [
       "<Figure size 504x504 with 1 Axes>"
      ]
     },
     "metadata": {
      "needs_background": "light"
     },
     "output_type": "display_data"
    }
   ],
   "source": [
    "linear_assumption(model, X, y)"
   ]
  },
  {
   "cell_type": "code",
   "execution_count": 9,
   "metadata": {},
   "outputs": [],
   "source": [
    "def normal_errors_assumption(model, features, label, p_value_thresh=0.05):\n",
    "    \"\"\"\n",
    "    Normality: Assumes that the error terms are normally distributed. If they are not,\n",
    "    nonlinear transformations of variables may solve this.\n",
    "               \n",
    "    This assumption being violated primarily causes issues with the confidence intervals\n",
    "    \"\"\"\n",
    "    from statsmodels.stats.diagnostic import normal_ad\n",
    "    print('Assumption 2: The error terms are normally distributed', '\\n')\n",
    "    \n",
    "    # Calculating residuals for the Anderson-Darling test\n",
    "    df_results = calculate_residuals(model, features, label)\n",
    "    \n",
    "    print('Using the Anderson-Darling test for normal distribution')\n",
    "\n",
    "    # Performing the test on the residuals\n",
    "    p_value = normal_ad(df_results['Residuals'])[1]\n",
    "    print('p-value from the test - below 0.05 generally means non-normal:', p_value)\n",
    "    \n",
    "    # Reporting the normality of the residuals\n",
    "    if p_value < p_value_thresh:\n",
    "        print('Residuals are not normally distributed')\n",
    "    else:\n",
    "        print('Residuals are normally distributed')\n",
    "    \n",
    "    # Plotting the residuals distribution\n",
    "    plt.subplots(figsize=(12, 6))\n",
    "    plt.title('Distribution of Residuals')\n",
    "    sns.distplot(df_results['Residuals'])\n",
    "    plt.show()\n",
    "    \n",
    "    print()\n",
    "    if p_value > p_value_thresh:\n",
    "        print('Assumption satisfied')\n",
    "    else:\n",
    "        print('Assumption not satisfied')\n",
    "        print()\n",
    "        print('Confidence intervals will likely be affected')\n",
    "        print('Try performing nonlinear transformations on variables')"
   ]
  },
  {
   "cell_type": "code",
   "execution_count": 45,
   "metadata": {},
   "outputs": [
    {
     "name": "stdout",
     "output_type": "stream",
     "text": [
      "Assumption 2: The error terms are normally distributed \n",
      "\n",
      "Using the Anderson-Darling test for normal distribution\n",
      "p-value from the test - below 0.05 generally means non-normal: 0.0\n",
      "Residuals are not normally distributed\n"
     ]
    },
    {
     "name": "stderr",
     "output_type": "stream",
     "text": [
      "/Library/Frameworks/Python.framework/Versions/3.7/lib/python3.7/site-packages/statsmodels/stats/_adnorm.py:66: FutureWarning: Using a non-tuple sequence for multidimensional indexing is deprecated; use `arr[tuple(seq)]` instead of `arr[seq]`. In the future this will be interpreted as an array index, `arr[np.array(seq)]`, which will result either in an error or a different result.\n",
      "  S = np.sum((2*i[sl1]-1.0)/N*(np.log(z)+np.log(1-z[sl2])), axis=axis)\n"
     ]
    },
    {
     "data": {
      "image/png": "[encoded data removed]",
      "text/plain": [
       "<Figure size 864x432 with 1 Axes>"
      ]
     },
     "metadata": {
      "needs_background": "light"
     },
     "output_type": "display_data"
    },
    {
     "name": "stdout",
     "output_type": "stream",
     "text": [
      "\n",
      "Assumption not satisfied\n",
      "\n",
      "Confidence intervals will likely be affected\n",
      "Try performing nonlinear transformations on variables\n"
     ]
    }
   ],
   "source": [
    "normal_errors_assumption(model, X, y)"
   ]
  },
  {
   "cell_type": "markdown",
   "metadata": {},
   "source": [
    "# Fit nonparametric decision tree regression to data\n",
    "- Credit goes to Deepika Singh for the wonderful tutorial from which I used much of the below analysis\n",
    "- see here: https://www.pluralsight.com/guides/non-linear-regression-trees-scikit-learn"
   ]
  },
  {
   "cell_type": "code",
   "execution_count": 11,
   "metadata": {},
   "outputs": [
    {
     "name": "stdout",
     "output_type": "stream",
     "text": [
      "(987, 5)\n",
      "(423, 5)\n",
      "0.9397467837950358\n",
      "0.0697279086267637\n",
      "1.0266433040968204\n",
      "0.04566735312260539\n",
      "\n",
      "DT train accuracy: 0.070\n",
      "DT train accuracy: 0.046\n"
     ]
    }
   ],
   "source": [
    "import pandas as pd\n",
    "import numpy as np\n",
    "from sklearn import model_selection\n",
    "from sklearn.linear_model import LinearRegression\n",
    "from sklearn.linear_model import Ridge\n",
    "from sklearn.linear_model import Lasso\n",
    "from sklearn.linear_model import ElasticNet\n",
    "from sklearn.neighbors import KNeighborsRegressor\n",
    "from sklearn.tree import DecisionTreeRegressor\n",
    "from sklearn.svm import SVR\n",
    "from sklearn.ensemble import RandomForestRegressor\n",
    "from sklearn.metrics import r2_score\n",
    "from sklearn.model_selection import train_test_split\n",
    "from sklearn.metrics import mean_squared_error\n",
    "from math import sqrt\n",
    "import matplotlib.pyplot as plt\n",
    "\n",
    "Xt = X.values\n",
    "y = y\n",
    "\n",
    "X_train, X_test, y_train, y_test = train_test_split(Xt, y, test_size=0.30, random_state=40)\n",
    "print(X_train.shape); print(X_test.shape)\n",
    "\n",
    "# Code Lines 1 to 4: Fit the regression tree 'dtree1' and 'dtree2' \n",
    "dtree1 = DecisionTreeRegressor(max_depth=2)\n",
    "dtree1.fit(X_train, y_train)\n",
    "\n",
    "# Code Lines 5 to 6: Predict on training data\n",
    "tr1 = dtree1.predict(X_train)\n",
    "\n",
    "#Code Lines 7 to 8: Predict on testing data\n",
    "y1 = dtree1.predict(X_test)\n",
    "\n",
    "# Print RMSE and R-squared value for regression tree 'dtree1' on training data\n",
    "print(np.sqrt(mean_squared_error(y_train,tr1))) \n",
    "print(r2_score(y_train, tr1))\n",
    "\n",
    "# Print RMSE and R-squared value for regression tree 'dtree1' on testing data\n",
    "print(np.sqrt(mean_squared_error(y_test,y1))) \n",
    "print(r2_score(y_test, y1)) \n",
    "print('')\n",
    "print(\"DT train accuracy: %0.3f\" % dtree1.score(X_train, y_train))\n",
    "print(\"DT train accuracy: %0.3f\" % dtree1.score(X_test, y_test))\n",
    "# # Print RMSE and R-squared value for regression tree 'dtree2' on training data\n",
    "# print(np.sqrt(mean_squared_error(y_train,tr2))) \n",
    "# print(r2_score(y_train, tr2))\n",
    "\n",
    "# # Print RMSE and R-squared value for regression tree 'dtree2' on testing data\n",
    "# print(np.sqrt(mean_squared_error(y_test,y2))) \n",
    "# print(r2_score(y_test, y2)) "
   ]
  },
  {
   "cell_type": "markdown",
   "metadata": {},
   "source": [
    "# Determine which features contributed to prediction of compulsivity\n",
    "\n",
    "- adapted from SciKitlean: https://scikit-learn.org/stable/modules/permutation_importance.html"
   ]
  },
  {
   "cell_type": "code",
   "execution_count": 17,
   "metadata": {},
   "outputs": [
    {
     "data": {
      "image/png": "[encoded data removed]",
      "text/plain": [
       "<Figure size 864x576 with 2 Axes>"
      ]
     },
     "metadata": {
      "needs_background": "light"
     },
     "output_type": "display_data"
    }
   ],
   "source": [
    "from sklearn.inspection import permutation_importance\n",
    "feature_labs=['iq','gender','age','state_t','it_mb'] #order of variables in X matrix \n",
    "feature_labs=np.asarray(feature_labs) #convert to an array\n",
    "\n",
    "# Conduct permutation importance simulations\n",
    "# Using test data (swap with train data for those results)\n",
    "result = permutation_importance(dtree1, X_train, y_train, n_repeats=100)\n",
    "perm_sorted_idx = result.importances_mean.argsort()\n",
    "tree_importance_sorted_idx = np.argsort(dtree1.feature_importances_)\n",
    "tree_indices = np.arange(0, len(dtree1.feature_importances_)) + 0.5\n",
    "\n",
    "#Plot results\n",
    "fig, (ax1, ax2) = plt.subplots(1, 2, figsize=(12, 8))\n",
    "ax1.barh(tree_indices,\n",
    "         dtree1.feature_importances_[tree_importance_sorted_idx], height=0.7)\n",
    "ax1.set_yticklabels(feature_labs[tree_importance_sorted_idx])\n",
    "ax1.set_yticks(tree_indices)\n",
    "ax1.set_ylim((0, len(dtree1.feature_importances_)))\n",
    "ax2.boxplot(result.importances[perm_sorted_idx].T, vert=False,\n",
    "            labels=feature_labs[perm_sorted_idx])\n",
    "fig.tight_layout()\n",
    "plt.show()"
   ]
  },
  {
   "cell_type": "code",
   "execution_count": 16,
   "metadata": {},
   "outputs": [
    {
     "name": "stdout",
     "output_type": "stream",
     "text": [
      "CI transition LR [0.0026341427206882325,0.005464593231366615]\n",
      "CI age [0.11112699602855432,0.1206024226707076]\n"
     ]
    }
   ],
   "source": [
    "import scipy\n",
    "def mean_confidence_interval(data, confidence=0.95):\n",
    "    a = 1.0 * np.array(data)\n",
    "    n = len(a)\n",
    "    m, se = np.mean(a), scipy.stats.sem(a)\n",
    "    h = se * scipy.stats.t.ppf((1 + confidence) / 2., n-1)\n",
    "    return m, m-h, m+h\n",
    "\n",
    "#confidence interval permutation importance for state transition learning rate\n",
    "m,l,h=mean_confidence_interval(result.importances[perm_sorted_idx].T[:,3])\n",
    "print('CI transition LR [{},{}]'.format(l,h))\n",
    "\n",
    "\n",
    "#confidence interval permutation importance for age\n",
    "m,l,h=mean_confidence_interval(result.importances[perm_sorted_idx].T[:,4])\n",
    "print('CI age [{},{}]'.format(l,h))\n"
   ]
  }
 ],
 "metadata": {
  "kernelspec": {
   "display_name": "Python 3",
   "language": "python",
   "name": "python3"
  },
  "language_info": {
   "codemirror_mode": {
    "name": "ipython",
    "version": 3
   },
   "file_extension": ".py",
   "mimetype": "text/x-python",
   "name": "python",
   "nbconvert_exporter": "python",
   "pygments_lexer": "ipython3",
   "version": "3.7.5"
  }
 },
 "nbformat": 4,
 "nbformat_minor": 2
}
