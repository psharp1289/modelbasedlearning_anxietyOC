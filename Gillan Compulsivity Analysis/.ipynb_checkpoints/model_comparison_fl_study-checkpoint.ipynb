{
 "cells": [
  {
   "cell_type": "code",
   "execution_count": null,
   "metadata": {},
   "outputs": [],
   "source": [
    "from brokenaxes import brokenaxes\n",
    "import matplotlib\n",
    "\n",
    "font = {'family' : 'sans-serif',\n",
    "        'weight' : 'normal',\n",
    "        'size'   : 14}\n",
    "matplotlib.rc('font', **font)\n",
    "\n",
    "f, axs = plt.subplots(5, 1,figsize=(8,8),gridspec_kw={'height_ratios':[10,10,30,20,10]},sharex=False)\n",
    "\n",
    "Daw_TL=559888.84\n",
    "winning=550818.84\n",
    "adjustment_normal_sticky=1521\n",
    "\n",
    "models=['1AV + Count']\n",
    "BIC=[559782.04-winning-adjustment_normal_sticky]\n",
    "ax1 = sns.barplot(x=BIC, y=models,\n",
    "                color='k',ax=axs[0])\n",
    "ax1.set(title='Step 1: Action-value architecture', ylabel=\"\",\n",
    "       xlabel=\"\\u0394 iBIC compared to Typical\")\n",
    "\n",
    "winning=549224.76 # MC Winning\n",
    "\n",
    "models=['Typical']\n",
    "BIC=[549418.23-winning]\n",
    "ax1 = sns.barplot(x=BIC, y=models,\n",
    "                 color='k',ax=axs[1])\n",
    "ax1.set(title='Step 2: Typical vs. ISTL model', ylabel=\"\",\n",
    "       xlabel=\"\\u0394 iBIC compared to ISTL\")\n",
    "\n",
    "# fig = plt.figure()\n",
    "# ax = fig.add_axes([0,0,1,1])\n",
    "models=['2AV LR + Counterfactual','2AV + Bayes','2AV + Fixed LR']\n",
    "BIC=[553994.95-winning-adjustment_normal_sticky,553025.44-winning-adjustment_normal_sticky,551612.23-winning-adjustment_normal_sticky]\n",
    "ax1 = sns.barplot(x=BIC, y=models,\n",
    "                 color='k',ax=axs[2])\n",
    "ax1.set(title='Step 3: Types of transition learning', ylabel=\"\",\n",
    "       xlabel=\"\\u0394 iBIC compared to ISTL\")\n",
    "\n",
    "\n",
    "models=['2AV + Dynamic LR + Intercept','2AV + Dynamic LR']\n",
    "BIC=[551361.71-winning-adjustment_normal_sticky,551327.21-winning-adjustment_normal_sticky]\n",
    "ax1 = sns.barplot(x=BIC, y=models,color='k',ax=axs[3])\n",
    "\n",
    "ax1.set(title='Step 4: Types of incremental learning', ylabel=\"\",\n",
    "       xlabel=\"\\u0394 iBIC compared to ISTL\")\n",
    "models=['MB',]\n",
    "BIC=[565698.33-winning-adjustment_normal_sticky]\n",
    "ax1 = sns.barplot(x=BIC, y=models,color='k',ax=axs[4])\n",
    "ax1.set(title='Step 5: Model-free learning necessary?', ylabel=\"\",\n",
    "       xlabel=\"\\u0394 iBIC compared to ISTL\")\n",
    "plt.tight_layout()\n",
    "\n",
    "plt.savefig('high_res_model_comparison_final.png', dpi=300)"
   ]
  }
 ],
 "metadata": {
  "kernelspec": {
   "display_name": "Python 3",
   "language": "python",
   "name": "python3"
  },
  "language_info": {
   "codemirror_mode": {
    "name": "ipython",
    "version": 3
   },
   "file_extension": ".py",
   "mimetype": "text/x-python",
   "name": "python",
   "nbconvert_exporter": "python",
   "pygments_lexer": "ipython3",
   "version": "3.8.5"
  }
 },
 "nbformat": 4,
 "nbformat_minor": 4
}
